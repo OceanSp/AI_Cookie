{
 "nbformat": 4,
 "nbformat_minor": 0,
 "metadata": {
  "colab": {
   "provenance": []
  },
  "kernelspec": {
   "name": "python3",
   "language": "python",
   "display_name": "Python 3 (ipykernel)"
  },
  "language_info": {
   "name": "python"
  }
 },
 "cells": [
  {
   "cell_type": "markdown",
   "source": [
    "# AI Algorithms Project : Optimize biscuit manufacturing"
   ],
   "metadata": {
    "collapsed": false
   }
  },
  {
   "cell_type": "markdown",
   "source": [
    "A biscuit manufacturing factory is planning to produce a series of biscuits for Christmas. Using\n",
    "the same roll of dough, the factory aims to create various biscuits in different sizes and shapes.\n",
    "The goal is to maximize biscuit production from a single dough roll while ensuring the highest\n",
    "possible profit.\n",
    "To achieve this goal, we have the following information :\n",
    "— The roll of dough is of a predefined rectangular length, referred to as ’LENGTH’, representing a one-dimensional problem.\n",
    "— The roll may contain irregularities, referred to as defects. Each defect has\n",
    "— a position ‘x‘\n",
    "— and a class, which could be one of several types (e.g., ’a’, ’b’, ’c’, ...).\n",
    "— The factory aims to produce a set of biscuits. Each Biscuit can be produced an infinite\n",
    "number of times, and has :\n",
    "— a specific size (along the same dimension as the roll)\n",
    "— a value (price)\n",
    "— and a threshold for the maximum number of defects of each class it can contain (otherwise it cannot be marketed).\n",
    "A solution is an assignment of biscuits on the roll. For an assignment to be valid, it needs to :\n",
    "— be at integer positions\n",
    "— Ensure no overlap in biscuit placement. For example, if you place a biscuit B1 of size 3 at\n",
    "position ‘x=2‘, you cannot have any biscuit assigned at positions ‘x=3‘ or ‘x=4‘.\n",
    "— Ensure that each biscuit placed on the roll contains fewer defects (or an equal number) of\n",
    "each class than its thresholds permit. For example, a biscuit B1 of size 3 placed at ‘x=2‘\n",
    "includes all defects in the interval [2, 4]. If there are 3 defects of class ’a’ in this interval,\n",
    "and B1’s threshold for class ’a’ is a maximum of 2 defects, then the assignment is invalid.\n",
    "— Ensure that the sum of the sizes of the assigned biscuits does not exceed the length of the\n",
    "roll of dough.\n",
    "The value of a solution is the sum of the values of the individual biscuits placed on it. Any part\n",
    "of the roll of dough without a biscuit assigned is considered to have a value of 0.\n",
    "2.1 Benchmark\n",
    "For this project, the following assumptions are made :\n",
    "— The length of the roll of dough is set to 500 units.\n",
    "— The roll has three classes of defects (’a’, ’b’, and ’c’). The set of defects and their positions\n",
    "on the roll are available in the ’defects.csv’ file.\n",
    "— The biscuit manufacturing factory aims to produce 4 types of biscuits, which are :\n",
    "— Biscuit 0 with a length of 4, a value 6, and maximum allowed defects as {'a' : 4, 'b' : 2, 'c' : 3}\n",
    "— Biscuit 1 with a length of 8, a value 12, and maximum allowed defects as{'a' : 5, 'b' : 4, 'c' : 4}\n",
    "— Biscuit 2 with a length of 2, a value 1, and maximum allowed defects as {'a' : 1, 'b' : 2, 'c' : 1}\n",
    "— Biscuit 3 with a length of 5, a value 8, and maximum allowed defects as {'a' : 2, 'b' : 3, 'c' : 2}"
   ],
   "metadata": {
    "collapsed": false
   }
  },
  {
   "cell_type": "markdown",
   "source": [
    "# 1- Define the problem\n",
    "Our goal here is to maximize the profit from a roll of doughby creating several biscuits while adressing specific constraints.\n",
    "Our roll has a fixed length, it contains defects,\n",
    "a biscuit is defined by its:\n",
    "\n",
    "1.   size\n",
    "2.   value\n",
    "2.   tolerance for certain defect classes\n",
    "\n",
    "\n",
    "\n",
    "\n",
    "We want to arrange the biscuits on the roll of dough optimally so as to maximize the profit.\n",
    "\n"
   ],
   "metadata": {
    "collapsed": false
   }
  },
  {
   "cell_type": "markdown",
   "source": [
    "# 2 - Python Implementation\n"
   ],
   "metadata": {
    "collapsed": false
   }
  },
  {
   "cell_type": "code",
   "execution_count": 394,
   "outputs": [],
   "source": [
    "import pandas as pd\n",
    "import numpy as np\n",
    "import matplotlib.pyplot as plt"
   ],
   "metadata": {
    "collapsed": false,
    "ExecuteTime": {
     "end_time": "2023-12-27T17:00:39.338311500Z",
     "start_time": "2023-12-27T17:00:39.266552100Z"
    }
   }
  },
  {
   "cell_type": "code",
   "execution_count": 395,
   "outputs": [],
   "source": [
    "class Biscuit:\n",
    "    \"\"\"\n",
    "    A class to represent a biscuit.\n",
    "    \n",
    "    Attributes\n",
    "    ----------\n",
    "    size : int\n",
    "        the size of the biscuit\n",
    "    value : int\n",
    "        the value of the biscuit\n",
    "    defects : dict\n",
    "        the maximum number of defects of each class the biscuit can contain\n",
    "    \"\"\"\n",
    "    \n",
    "    def __init__(self, size, value, defects_threshold):\n",
    "        self.size = size\n",
    "        self.value = value\n",
    "        self.defects_threshold = defects_threshold\n",
    "\n",
    "    def __str__(self):\n",
    "        return f'Biscuit(size={self.size}, value={self.value}, defects={self.defects_threshold})'\n",
    "\n",
    "class Defect:\n",
    "    \"\"\"\n",
    "    A class to represent a defect.\n",
    "    \n",
    "    Attributes\n",
    "    ----------\n",
    "    position : int\n",
    "        the position of the defect\n",
    "    classe : str\n",
    "        the class of the defect\n",
    "    \"\"\"\n",
    "    \n",
    "    def __init__(self, position, classe):\n",
    "        self.position = position\n",
    "        self.classe = classe\n",
    "\n",
    "    def __str__(self):\n",
    "        return f'Defect(position={self.position}, classe={self.classe})'\n",
    "        "
   ],
   "metadata": {
    "collapsed": false,
    "ExecuteTime": {
     "end_time": "2023-12-27T17:00:39.381168600Z",
     "start_time": "2023-12-27T17:00:39.282497200Z"
    }
   }
  },
  {
   "cell_type": "markdown",
   "source": [
    "#### Let's define our 4 type of biscuits that the factory is producing.\n",
    "\n",
    "#### We will also define the defects in the roll of dough as a list of Defect objects."
   ],
   "metadata": {
    "collapsed": false
   }
  },
  {
   "cell_type": "code",
   "execution_count": 396,
   "outputs": [
    {
     "name": "stdout",
     "output_type": "stream",
     "text": [
      "Defects:\n",
      "Defect(position=355.44933495113816, classe=c)\n",
      "Defect(position=92.49623624899967, classe=a)\n",
      "Defect(position=141.87679475713, classe=c)\n",
      "Defect(position=431.833901528095, classe=c)\n",
      "Defect(position=435.02846071222535, classe=c)\n",
      "Defect(position=205.80069498110913, classe=a)\n",
      "Defect(position=34.68761156005529, classe=b)\n",
      "Defect(position=443.5663536577713, classe=a)\n",
      "Defect(position=69.42321664429218, classe=a)\n",
      "Defect(position=301.2810691469357, classe=a)\n"
     ]
    }
   ],
   "source": [
    "# Read the defects from the csv file\n",
    "\n",
    "defects = pd.read_csv('defects.csv', header=None, names=['position', 'classe'])\n",
    "defects = [Defect(position, classe) for position, classe in zip(defects['position'], defects['classe'])]\n",
    "# we remove the first value to avoid position x and class = class\n",
    "defects = defects[1:]\n",
    "\n",
    "\n",
    "\n",
    "biscuits = [\n",
    "    Biscuit(size=4, value=6, defects_threshold={'a': 4, 'b': 2, 'c': 3}),\n",
    "    Biscuit(8, 12, {'a': 5, 'b': 4, 'c': 4}),\n",
    "    Biscuit(2, 1, {'a': 1, 'b': 2, 'c': 1}),\n",
    "    Biscuit(5, 8, {'a': 2, 'b': 3, 'c': 2})\n",
    "]\n",
    "\n",
    "# display the 10 first defects \n",
    "print('Defects:')\n",
    "for defect in defects[:10]:\n",
    "    print(defect)"
   ],
   "metadata": {
    "collapsed": false,
    "ExecuteTime": {
     "end_time": "2023-12-27T17:00:39.384157800Z",
     "start_time": "2023-12-27T17:00:39.299441900Z"
    }
   }
  },
  {
   "cell_type": "code",
   "execution_count": 397,
   "outputs": [],
   "source": [
    "class Roll:\n",
    "    \"\"\"\n",
    "    A class to represent a roll of dough.\n",
    "    It contains also the information of the assigned biscuits and their positions.\n",
    "    \n",
    "    Attributes\n",
    "    ----------\n",
    "    length : int\n",
    "        the length of the roll\n",
    "    defects : list\n",
    "        the list of defects in the roll\n",
    "    assigned_biscuits : tuple(Biscuit, int)\n",
    "        the list of assigned biscuits with the type of biscuit and its starting position\n",
    "    \n",
    "    Methods\n",
    "    -------\n",
    "    \n",
    "    \"\"\"\n",
    "    \n",
    "    def __init__(self, length=500, defects = defects):\n",
    "        self.length = length\n",
    "        self.defects = defects\n",
    "        self.assigned_biscuits = []\n",
    "        \n",
    "    def __str__(self):\n",
    "        return f'Roll(length={self.length}, defects={self.defects}, assigned_biscuits={self.assigned_biscuits})'\n",
    "    \n",
    "    def check_constraints(self, biscuit, position):\n",
    "        \"\"\" \n",
    "        Check if an assignment of a biscuit on the roll is valid.\n",
    "        It checks if the assignment respects the following constraints:\n",
    "        - There is no overlap in biscuit placement\n",
    "        - Each biscuit placed on the roll contains fewer defects (or an equal number) of each class than its thresholds permit\n",
    "        - The sum of the sizes of the assigned biscuits does not exceed the length of the roll of dough\n",
    "        \n",
    "        Args:\n",
    "            biscuit (Biscuit): the biscuit to be placed\n",
    "            position (int): the position of the biscuit in the roll\n",
    "            \n",
    "        Returns:\n",
    "            bool: True if the assignment is valid, False otherwise\n",
    "        \"\"\"\n",
    "        \n",
    "        # Check if there is no overlap in biscuit placement\n",
    "        for assigned_biscuit in self.assigned_biscuits:\n",
    "            if position <= assigned_biscuit[1] < position + biscuit.size: # if the starting position of the already placed biscuit is in the interval of the new biscuit\n",
    "                return False\n",
    "            if assigned_biscuit[1] <= position < assigned_biscuit[1] + assigned_biscuit[0].size: # if the starting position of the new biscuit is in the interval of the already placed biscuit\n",
    "                return False\n",
    "        \n",
    "        # Check if the placement of the biscuit does not exceed the maximum number of defects of each class\n",
    "        for classe in biscuit.defects_threshold.keys():\n",
    "            # Get the number of defects of the class in the interval of the biscuit\n",
    "            nb_defects = len([defect for defect in self.defects if defect.classe == classe and position <= float(defect.position) < position + biscuit.size])\n",
    "            if nb_defects > biscuit.defects_threshold[classe]: # if the number of defects of the class in the interval of the biscuit is greater than the maximum number of defects of the class\n",
    "                return False\n",
    "                \n",
    "        \n",
    "        # Check if the sum of the sizes of the assigned biscuits does not exceed the length of the roll of dough\n",
    "        if sum([assigned_biscuit[0].size for assigned_biscuit in self.assigned_biscuits]) + biscuit.size > self.length:\n",
    "            return False\n",
    "        \n",
    "        return True\n",
    "    \n",
    "    def total_value(self):\n",
    "        \"\"\" \n",
    "        Calculate the total value of the assigned biscuits on the roll\n",
    "        \n",
    "        Returns:\n",
    "            int: the total value of the assigned biscuits\n",
    "        \"\"\"\n",
    "        return sum([assigned_biscuit[0].value for assigned_biscuit in self.assigned_biscuits])\n",
    "    \n",
    "    def place_biscuit(self, biscuit, position):\n",
    "        \"\"\"\n",
    "        Place a biscuit on the roll at a given position while checking the constraints\n",
    "        \n",
    "        Args:\n",
    "            biscuit (Biscuit): the biscuit to be placed\n",
    "            position (int): the position of the biscuit in the roll\n",
    "        \"\"\"\n",
    "        if self.check_constraints(biscuit, position):\n",
    "            self.assigned_biscuits.append((biscuit, position))\n",
    "            self.assigned_biscuits.sort(key=lambda assigned_biscuit: assigned_biscuit[1]) # sort the list of assigned biscuits by their starting position\n",
    "            return True\n",
    "        return False\n",
    "        \n",
    "    def remove_biscuit(self, biscuit, position):\n",
    "        \"\"\"\n",
    "        Remove a biscuit from the roll at a given position\n",
    "        \n",
    "        Args:\n",
    "            biscuit (Biscuit): the biscuit to be removed\n",
    "            position (int): the position of the biscuit in the roll\n",
    "        \"\"\"\n",
    "        self.assigned_biscuits.remove((biscuit, position))\n",
    "        \n",
    "    def get_biscuit(self, position):\n",
    "        \"\"\"\n",
    "        Get the biscuit at a given position\n",
    "        \n",
    "        Args:\n",
    "            position (int): the position of the biscuit in the roll\n",
    "            \n",
    "        Returns:\n",
    "            Biscuit: the biscuit at the given position\n",
    "        \"\"\"\n",
    "        for assigned_biscuit in self.assigned_biscuits:\n",
    "            if assigned_biscuit[1] <= position < assigned_biscuit[1] + assigned_biscuit[0].size:\n",
    "                return assigned_biscuit[0]\n",
    "        return None"
   ],
   "metadata": {
    "collapsed": false,
    "ExecuteTime": {
     "end_time": "2023-12-27T17:00:39.385153800Z",
     "start_time": "2023-12-27T17:00:39.311401900Z"
    }
   }
  },
  {
   "cell_type": "markdown",
   "source": [
    "#### Let's create our roll of dough with a length of 500 units and assign the defects to it."
   ],
   "metadata": {
    "collapsed": false
   }
  },
  {
   "cell_type": "code",
   "execution_count": 398,
   "outputs": [
    {
     "data": {
      "text/plain": "False"
     },
     "execution_count": 398,
     "metadata": {},
     "output_type": "execute_result"
    }
   ],
   "source": [
    "roll = Roll()\n",
    "roll_test = Roll()\n",
    "roll_test.place_biscuit(biscuits[0], 0)\n",
    "roll_test.place_biscuit(biscuits[1], 4)\n",
    "roll_test.place_biscuit(biscuits[1], 126)\n",
    "roll_test.place_biscuit(biscuits[2], 12)\n",
    "roll_test.place_biscuit(biscuits[3], 14)\n",
    "roll_test.place_biscuit(biscuits[0], 100)\n",
    "roll_test.place_biscuit(biscuits[2], 144)\n",
    "roll_test.place_biscuit(biscuits[3], 146)"
   ],
   "metadata": {
    "collapsed": false,
    "ExecuteTime": {
     "end_time": "2023-12-27T17:00:39.398111100Z",
     "start_time": "2023-12-27T17:00:39.329341200Z"
    }
   }
  },
  {
   "cell_type": "markdown",
   "source": [
    "#### Let's define a function to visualize the roll of dough with the assigned biscuits and the defects.\n"
   ],
   "metadata": {
    "collapsed": false
   }
  },
  {
   "cell_type": "code",
   "execution_count": 399,
   "outputs": [],
   "source": [
    "def visualize_roll(roll, biscuits=biscuits):\n",
    "    \"\"\"\n",
    "    Visualize the roll of dough with each biscuit type in a different color\n",
    "    \n",
    "    Args:\n",
    "        roll (Roll): the roll of dough\n",
    "        biscuits (list): the list of biscuits produced by the factory\n",
    "    \"\"\"\n",
    "    \n",
    "    # Plot the roll of dough\n",
    "    plt.figure(figsize=(20, 1))\n",
    "    plt.xlim(0, roll.length)\n",
    "    plt.ylim(0, 1)\n",
    "    plt.yticks([])\n",
    "    plt.xticks(np.arange(0, roll.length, 10))\n",
    "    plt.title('Roll of dough with different biscuits')\n",
    "    \n",
    "    # Define the colors for each biscuit type\n",
    "    colors = ['tab:blue', 'tab:orange', 'tab:green', 'tab:red']\n",
    "\n",
    "    for assigned_biscuit in roll.assigned_biscuits:\n",
    "        # Trouver l'index du biscuit en fonction d'une propriété unique (par exemple, la taille)\n",
    "        biscuit_index = next((i for i, biscuit in enumerate(biscuits) if biscuit.size == assigned_biscuit[0].size), None)\n",
    "        if biscuit_index is not None:\n",
    "            color = colors[biscuit_index]\n",
    "            plt.barh(0, assigned_biscuit[0].size, left=assigned_biscuit[1], height=2, color=color, edgecolor='black', linewidth=1)\n",
    "    \n",
    "    # define the labels for the legend\n",
    "    for i, biscuit in enumerate(biscuits):\n",
    "        plt.barh(0, 0, color=colors[i], label=f'Biscuit {i}')\n",
    "    \n",
    "    plt.legend(loc='upper center', bbox_to_anchor=(0.5, -0.3), fancybox=True, shadow=True, ncol=5)\n",
    "    plt.show()\n",
    "    \n",
    "        "
   ],
   "metadata": {
    "collapsed": false,
    "ExecuteTime": {
     "end_time": "2023-12-27T17:00:39.399108200Z",
     "start_time": "2023-12-27T17:00:39.343294700Z"
    }
   }
  },
  {
   "cell_type": "code",
   "execution_count": 400,
   "outputs": [
    {
     "data": {
      "text/plain": "<Figure size 2000x100 with 1 Axes>",
      "image/png": "[encoded data removed]"
     },
     "metadata": {},
     "output_type": "display_data"
    }
   ],
   "source": [
    "visualize_roll(roll_test)"
   ],
   "metadata": {
    "collapsed": false,
    "ExecuteTime": {
     "end_time": "2023-12-27T17:00:39.486814400Z",
     "start_time": "2023-12-27T17:00:39.361234800Z"
    }
   }
  },
  {
   "cell_type": "markdown",
   "source": [],
   "metadata": {
    "collapsed": false
   }
  },
  {
   "cell_type": "markdown",
   "source": [
    "# Implement a heuristic algorithm\n",
    "\n",
    "## Pertinence pour Votre Projet\n",
    "Dans votre projet de fabrication de biscuits, une approche heuristique peut être très efficace pour placer les biscuits sur le rouleau de manière à maximiser le profit, en tenant compte des contraintes de défauts et de la taille du rouleau. Une heuristique possible pourrait être de prioriser le placement des biscuits avec le plus haut ratio valeur/taille, tout en respectant les contraintes de défauts.\n",
    "\n",
    "## Squelette de l'IA Heuristique\n",
    "Pour mettre en œuvre une IA heuristique dans votre projet, vous pourriez envisager les composants suivants :\n",
    "\n",
    "- Fonction de Sélection Heuristique :\n",
    "Détermine quel biscuit placer ensuite en fonction d'une règle simple, par exemple, en choisissant le biscuit avec le meilleur ratio valeur/taille ou le moins de contraintes de défauts.\n",
    "\n",
    "- Fonction de Placement de Biscuits :\n",
    "Place le biscuit sélectionné sur le rouleau à la position optimale tout en respectant les contraintes.\n",
    "\n",
    "- Boucle Principale pour la Construction de la Solution :\n",
    "Répète le processus de sélection et de placement jusqu'à ce que le rouleau soit plein ou qu'aucun autre biscuit ne puisse être placé.\n",
    "\n",
    "- Fonction d'Évaluation :\n",
    "Évalue la valeur totale des biscuits placés sur le rouleau et vérifie si les contraintes sont respectées.\n",
    "\n",
    "- Optionnel - Ajustement et Amélioration :\n",
    "Après la construction initiale, vous pouvez envisager d'ajouter une phase où la solution est ajustée pour tenter d'améliorer la valeur totale, par exemple en remplaçant certains biscuits ou en ajustant leurs positions."
   ],
   "metadata": {
    "collapsed": false
   }
  },
  {
   "cell_type": "markdown",
   "source": [
    "# Fonctionnement du Hill Climbing pour Votre Problème\n",
    "- Le Hill Climbing est une méthode d'optimisation qui vise à améliorer progressivement une solution en faisant de petits changements. Voici comment l'appliquer à votre projet de placement de biscuits :\n",
    "\n",
    "- Solution Initiale : Commencez avec une solution initiale. Cette solution peut être un rouleau vide ou un rouleau avec une disposition aléatoire ou simple des biscuits.\n",
    "\n",
    "- Génération de Voisins : À partir de cette solution, générez des \"voisins\" en faisant de petits changements. Par exemple, ajoutez un biscuit, déplacez un biscuit existant, ou remplacez un type de biscuit par un autre.\n",
    "\n",
    "- Évaluation : Évaluez chaque solution voisine. Dans votre cas, cela signifierait calculer la valeur totale des biscuits sur le rouleau tout en vérifiant que les contraintes (comme les défauts et la longueur maximale du rouleau) sont respectées.\n",
    "\n",
    "- Choix de la Meilleure Solution : Si une solution voisine est meilleure (c'est-à-dire, elle a une valeur totale plus élevée sans enfreindre les contraintes), remplacez votre solution actuelle par cette solution voisine.\n",
    "\n",
    "- Répétition : Répétez ce processus jusqu'à ce qu'aucune amélioration ne soit possible ou qu'un critère d'arrêt soit atteint (par exemple, un nombre maximum d'itérations).\n",
    "\n",
    "# Implémentation du Hill Climbing\n",
    "#### Pour implémenter le Hill Climbing, vous pourriez avoir besoin des éléments suivants :\n",
    "\n",
    "- Fonction pour Générer des Voisins :\n",
    "Cette fonction modifie légèrement la disposition actuelle des biscuits pour créer de nouvelles configurations.\n",
    "Par exemple, elle pourrait essayer d'ajouter un biscuit à différentes positions, déplacer un biscuit existant, ou remplacer un type de biscuit par un autre.\n",
    "\n",
    "- Fonction d'Évaluation :\n",
    "Utilisez ou modifiez votre méthode existante pour évaluer la valeur totale des biscuits sur le rouleau et vérifier si les contraintes sont respectées.\n",
    "\n",
    "- Boucle Principale de Hill Climbing :\n",
    "Cette boucle contrôle le processus d'optimisation, en comparant les solutions actuelles et voisines, et en mettant à jour la solution actuelle si une meilleure est trouvée.\n",
    "\n",
    "- Critère d'Arrêt :\n",
    "Définissez un critère d'arrêt pour la boucle principale, comme un nombre maximum d'itérations ou l'absence d'amélioration après un certain nombre de tentatives."
   ],
   "metadata": {
    "collapsed": false
   }
  },
  {
   "cell_type": "markdown",
   "source": [
    "#### Let's start by creating our initial solution. In case the hill climbing get stuck in a local optimum, we will try adding some randomization to the initial solution. So we can see how this randomization can help us get a better solution.\n",
    "\n",
    "For this initial solution we will randomly take a biscuit and place it at the first position where it can be placed. We will repeat this process until we can't place any more biscuits."
   ],
   "metadata": {
    "collapsed": false
   }
  },
  {
   "cell_type": "code",
   "execution_count": 401,
   "outputs": [],
   "source": [
    "def generate_initial_solution(biscuits):\n",
    "    \"\"\"\n",
    "    Generate an initial solution.\n",
    "    \n",
    "    Args:\n",
    "        biscuits (list): the list of biscuits produced by the factory\n",
    "        roll (Roll): the empty roll of dough\n",
    "        \n",
    "    Returns:\n",
    "        Roll: the roll of dough with the biscuits placed on it\n",
    "    \"\"\"\n",
    "    \n",
    "    # We make a copy of the list of biscuits so we can remove the biscuit type if it can't be placed anymore\n",
    "    biscuits = biscuits.copy()\n",
    "    roll = Roll()\n",
    "    while True:\n",
    "        placed = False\n",
    "        current_biscuit = np.random.choice(biscuits)\n",
    "        for position in range(roll.length - current_biscuit.size + 1):\n",
    "            if roll.place_biscuit(current_biscuit, position):\n",
    "                placed = True\n",
    "                break\n",
    "        if not placed: # if the biscuit can't be placed after trying all the positions, we remove it from the list\n",
    "            biscuits.remove(current_biscuit)\n",
    "        if len(biscuits) == 0:\n",
    "            break\n",
    "    return roll"
   ],
   "metadata": {
    "collapsed": false,
    "ExecuteTime": {
     "end_time": "2023-12-27T17:00:39.534654200Z",
     "start_time": "2023-12-27T17:00:39.489803700Z"
    }
   }
  },
  {
   "cell_type": "code",
   "execution_count": 402,
   "outputs": [
    {
     "data": {
      "text/plain": "<Figure size 2000x100 with 1 Axes>",
      "image/png": "[encoded data removed]"
     },
     "metadata": {},
     "output_type": "display_data"
    },
    {
     "name": "stdout",
     "output_type": "stream",
     "text": [
      "The total value of the roll is 634\n"
     ]
    }
   ],
   "source": [
    "roll_initial = generate_initial_solution(biscuits)\n",
    "visualize_roll(roll_initial)\n",
    "print(f'The total value of the roll is {roll_initial.total_value()}')"
   ],
   "metadata": {
    "collapsed": false,
    "ExecuteTime": {
     "end_time": "2023-12-27T17:00:39.813721Z",
     "start_time": "2023-12-27T17:00:39.504754400Z"
    }
   }
  },
  {
   "cell_type": "code",
   "execution_count": 403,
   "outputs": [],
   "source": [
    "def generate_initial_greedy_solution(biscuits):\n",
    "    \"\"\"\n",
    "    Generate an initial solution using a greedy approach.\n",
    "    the best biscuit is the one with the highest value/size ratio\n",
    "    that's in order, biscuit 3, biscuit 0, biscuit 1, biscuit 2\n",
    "    \n",
    "    Args:\n",
    "        biscuits (list): the list of biscuits produced by the factory\n",
    "        roll (Roll): the empty roll of dough\n",
    "        \n",
    "    Returns:\n",
    "        Roll: the roll of dough with the biscuits placed on it\n",
    "    \"\"\"\n",
    "    roll = Roll()\n",
    "    biscuits = biscuits.copy()\n",
    "    biscuits.sort(key=lambda biscuit: biscuit.value / biscuit.size, reverse=True)\n",
    "    for biscuit in biscuits:\n",
    "        for position in range(roll.length - biscuit.size + 1):\n",
    "            if roll.place_biscuit(biscuit, position):\n",
    "                continue\n",
    "    return roll"
   ],
   "metadata": {
    "collapsed": false,
    "ExecuteTime": {
     "end_time": "2023-12-27T17:00:39.876538200Z",
     "start_time": "2023-12-27T17:00:39.815713500Z"
    }
   }
  },
  {
   "cell_type": "code",
   "execution_count": 404,
   "outputs": [
    {
     "data": {
      "text/plain": "<Figure size 2000x100 with 1 Axes>",
      "image/png": "[encoded data removed]"
     },
     "metadata": {},
     "output_type": "display_data"
    },
    {
     "name": "stdout",
     "output_type": "stream",
     "text": [
      "The total value of the roll is 705\n"
     ]
    }
   ],
   "source": [
    "roll_initial = generate_initial_greedy_solution(biscuits)\n",
    "visualize_roll(roll_initial)\n",
    "print(f'The total value of the roll is {roll_initial.total_value()}')"
   ],
   "metadata": {
    "collapsed": false,
    "ExecuteTime": {
     "end_time": "2023-12-27T17:00:40.038995200Z",
     "start_time": "2023-12-27T17:00:39.892485300Z"
    }
   }
  },
  {
   "cell_type": "markdown",
   "source": [],
   "metadata": {
    "collapsed": false
   }
  },
  {
   "cell_type": "markdown",
   "source": [
    "#### Let's see with several initial solutions what is the highest value we can get and the mean value of the solutions, out of 50 initial solutions."
   ],
   "metadata": {
    "collapsed": false
   }
  },
  {
   "cell_type": "code",
   "execution_count": 405,
   "outputs": [],
   "source": [
    "def generate_initial_solutions(biscuits, n=50):\n",
    "    \"\"\"\n",
    "    Generate n initial solutions.\n",
    "    \n",
    "    Args:\n",
    "        biscuits (list): the list of biscuits produced by the factory\n",
    "        n (int): the number of initial solutions to generate\n",
    "        \n",
    "    Returns:\n",
    "        list: the list of rolls of dough with the biscuits placed on them\n",
    "    \"\"\"\n",
    "    return [generate_initial_solution(biscuits) for _ in range(n)]"
   ],
   "metadata": {
    "collapsed": false,
    "ExecuteTime": {
     "end_time": "2023-12-27T17:00:40.094808Z",
     "start_time": "2023-12-27T17:00:40.033015300Z"
    }
   }
  },
  {
   "cell_type": "code",
   "execution_count": 406,
   "outputs": [
    {
     "name": "stdout",
     "output_type": "stream",
     "text": [
      "The highest value of the rolls is 688\n"
     ]
    },
    {
     "data": {
      "text/plain": "<Figure size 2000x100 with 1 Axes>",
      "image/png": "[encoded data removed]"
     },
     "metadata": {},
     "output_type": "display_data"
    },
    {
     "name": "stdout",
     "output_type": "stream",
     "text": [
      "The mean value of the rolls is 656.32\n"
     ]
    }
   ],
   "source": [
    "rolls_initial = generate_initial_solutions(biscuits)\n",
    "\n",
    "print(f'The highest value of the rolls is {max([roll.total_value() for roll in rolls_initial])}')\n",
    "# let's display the best roll\n",
    "visualize_roll(max(rolls_initial, key=lambda roll: roll.total_value()))\n",
    "print(f'The mean value of the rolls is {np.mean([roll.total_value() for roll in rolls_initial])}')"
   ],
   "metadata": {
    "collapsed": false,
    "ExecuteTime": {
     "end_time": "2023-12-27T17:00:45.551769400Z",
     "start_time": "2023-12-27T17:00:40.048961700Z"
    }
   }
  },
  {
   "cell_type": "markdown",
   "source": [
    "## Now let's implement the hill climbing algorithm.\n",
    "\n",
    "#### Starting from an initial solution, we will generate a neighbor solution by trying to add a biscuit, move a biscuit or replace a biscuit by another type of biscuit. We will then evaluate the neighbor solution and if it is better than the current solution, we will replace the current solution by the neighbor solution. We will repeat this process until we can't find a better solution or we reach a maximum number of iterations."
   ],
   "metadata": {
    "collapsed": false
   }
  },
  {
   "cell_type": "code",
   "execution_count": 419,
   "outputs": [],
   "source": [
    "def hill_climbing(biscuits, max_iterations=1000):\n",
    "    \"\"\"\n",
    "    Apply the hill climbing algorithm to find the best solution.\n",
    "    \n",
    "    Args:\n",
    "        biscuits (list): the list of biscuits produced by the factory\n",
    "        max_iterations (int): the maximum number of iterations\n",
    "        \n",
    "    Returns:\n",
    "        Roll: the roll of dough with the biscuits placed on it\n",
    "    \"\"\"\n",
    "    # Generate an initial solution\n",
    "    #roll = generate_initial_solution(biscuits)\n",
    "    roll = generate_initial_greedy_solution(biscuits)\n",
    "    visualize_roll(roll)\n",
    "    print(f'The total value of the roll is {roll.total_value()}')\n",
    "    # Repeat until we reach a maximum number of iterations\n",
    "    for _ in range(max_iterations):\n",
    "        # Generate a neighbor solution\n",
    "        neighbor_roll = generate_neighbor_solution(roll)\n",
    "        # Evaluate the neighbor solution\n",
    "        if neighbor_roll.total_value() > roll.total_value(): # if the neighbor solution is better than the current solution\n",
    "            roll = neighbor_roll # we replace the current solution by the neighbor solution\n",
    "            \n",
    "    return roll"
   ],
   "metadata": {
    "collapsed": false,
    "ExecuteTime": {
     "end_time": "2023-12-27T17:07:10.373689200Z",
     "start_time": "2023-12-27T17:07:10.356745400Z"
    }
   }
  },
  {
   "cell_type": "code",
   "execution_count": 408,
   "outputs": [],
   "source": [
    "import copy\n",
    "\n",
    "\n",
    "def generate_neighbor_solution(roll):\n",
    "    \"\"\"\n",
    "    Generate a neighbor solution.\n",
    "    Étape 1: Sélectionner un Groupe de Biscuits\n",
    "Déterminer la Taille du Groupe : Choisissez aléatoirement la taille du groupe x. Par exemple, x pourrait varier de 2 à 5.\n",
    "\n",
    "Choisir un Emplacement de Départ : Sélectionnez aléatoirement un emplacement de départ sur le rouleau.\n",
    "\n",
    "Identifier les Groupes de Biscuits : À partir de cet emplacement, identifiez les x prochains biscuits. Incluez les espaces vides dans ce groupe. \n",
    "\n",
    "Étape 2: Analyser et Modifier le Groupe\n",
    "Calculer la Taille Totale du Groupe : Calculez la longueur totale occupée par le groupe, y compris les espaces vides.\n",
    "\n",
    "Stratégie de Placement Basée sur la Parité :\n",
    "\n",
    "Si la taille est impaire : Essayez de placer un biscuit de taille 5 (Biscuit 3) à une extrémité du groupe. Ensuite, remplissez le reste de l'espace avec des biscuits de taille paire.\n",
    "Si la taille est paire : Vérifiez s'il est possible de placer deux biscuits de taille 5 côte à côte. Si oui, faites-le et utilisez les biscuits de taille paire pour remplir le reste de l'espace.\n",
    "Optimisation de la Valeur : Tout en faisant ces ajustements, essayez de maximiser la valeur totale des biscuits dans le groupe, en tenant compte de leurs contraintes de défauts.\n",
    "En terme d'ordre de priorité de placement, c'est dans l'ordre suivant : Biscuit 3, Biscuit 0, Biscuit 1, Biscuit 2.\n",
    "\n",
    "Étape 3: Appliquer les Changements\n",
    "Retirer les Biscuits Actuels : Retirez les biscuits actuellement dans le groupe du rouleau.\n",
    "\n",
    "Placer les Nouveaux Biscuits : Placez les nouveaux biscuits selon la stratégie déterminée à l'étape 2.\n",
    "\n",
    "Vérifier les Contraintes : Assurez-vous que la nouvelle configuration respecte toutes les contraintes, notamment en ce qui concerne les défauts et la longueur totale du rouleau.\n",
    "    \n",
    "    Args:\n",
    "        roll (Roll): a suggestion of a roll of dough with the biscuits placed on it\n",
    "        \n",
    "    Returns:\n",
    "        Roll: a new roll with modifications to the biscuits placement\n",
    "    \"\"\"\n",
    "    \n",
    "    # We make a copy of the roll so we don't modify the original roll\n",
    "    roll = copy.deepcopy(roll)\n",
    "    \n",
    "    # Select a group of biscuits\n",
    "    rand = np.random.randint(2, 6) # we choose a random number between 2 and 5\n",
    "    \n",
    "    #Let's look at the starting position of the [-rand] biscuit so we know the limits of the starting position of the group\n",
    "    start_position_max = roll.length - sum([assigned_biscuit[0].size for assigned_biscuit in roll.assigned_biscuits[-rand:]])\n",
    "\n",
    "    # We choose a random starting position for the group\n",
    "    start_position = np.random.randint(0, start_position_max + 1)\n",
    "    \n",
    "    # We get the group of biscuits from the starting position\n",
    "    group = []\n",
    "    for assigned_biscuit in roll.assigned_biscuits:\n",
    "        if start_position <= assigned_biscuit[1] and len(group) < rand:\n",
    "            group.append(assigned_biscuit)\n",
    "    \n",
    "    # We calculate the total size of the group\n",
    "    group_size = group[-1][1] + group[-1][0].size - group[0][1]\n",
    "    \n",
    "    # We first remove the biscuits from the roll\n",
    "    for assigned_biscuit in group:\n",
    "        roll.remove_biscuit(assigned_biscuit[0], assigned_biscuit[1])\n",
    "        \n",
    "    #Let's look at how to place new biscuits in the group\n",
    "    if group_size % 2 == 1: # if the group size is odd\n",
    "        # We try to place a biscuit of size 5 at the beginning of the group\n",
    "        if roll.place_biscuit(biscuits[3], start_position):\n",
    "            # We next need to fill the rest with the space to get no empty space in the group\n",
    "            # We try to put next to the biscuit of size 5 another biscuit with good value/size ratio\n",
    "            for position in range(start_position + 5, start_position + group_size - 5 + 1, 2):\n",
    "                for biscuit in biscuits:\n",
    "                    if roll.place_biscuit(biscuit, start_position + 5):\n",
    "                        break\n",
    "        else: # if we can't place a biscuit of size 5 at the beginning of the group\n",
    "            # We try to place a biscuit of size 5 at the end of the group\n",
    "            if roll.place_biscuit(biscuits[3], start_position + group_size - 5):\n",
    "                # We next need to fill the rest with the space to get no empty space in the group\n",
    "                # We try to put right before the biscuit of size 5 another biscuit with good value/size ratio\n",
    "                for position in range(start_position, start_position + group_size - 5, 2):\n",
    "                    for biscuit in biscuits:\n",
    "                        if roll.place_biscuit(biscuit, position):\n",
    "                            break\n",
    "                            \n",
    "    else: # if the group size is even\n",
    "        # We try to place somewhere two biscuits of size 5 next to each other\n",
    "        for position in range(start_position, start_position + group_size - 5 + 1, 2):\n",
    "            if roll.check_constraints(biscuits[3], position) and roll.check_constraints(biscuits[3], position + 5):\n",
    "                roll.place_biscuit(biscuits[3], position)\n",
    "                roll.place_biscuit(biscuits[3], position + 5)\n",
    "            # We next need to fill the rest with the space to get no empty space in the group\n",
    "            # We try to put right before the biscuit of size 5 another biscuit with good value/size ratio\n",
    "            for position in range(start_position, start_position + group_size - 10 + 1, 2):\n",
    "                for biscuit in biscuits:\n",
    "                    if roll.place_biscuit(biscuit, position):\n",
    "                        break\n",
    "                    \n",
    "    return roll"
   ],
   "metadata": {
    "collapsed": false,
    "ExecuteTime": {
     "end_time": "2023-12-27T17:00:45.557750100Z",
     "start_time": "2023-12-27T17:00:45.506919900Z"
    }
   }
  },
  {
   "cell_type": "code",
   "execution_count": 418,
   "outputs": [
    {
     "data": {
      "text/plain": "<Figure size 2000x100 with 1 Axes>",
      "image/png": "[encoded data removed]"
     },
     "metadata": {},
     "output_type": "display_data"
    },
    {
     "name": "stdout",
     "output_type": "stream",
     "text": [
      "The total value of the roll is 705\n"
     ]
    },
    {
     "data": {
      "text/plain": "<Figure size 2000x100 with 1 Axes>",
      "image/png": "[encoded data removed]"
     },
     "metadata": {},
     "output_type": "display_data"
    },
    {
     "name": "stdout",
     "output_type": "stream",
     "text": [
      "The total value of the roll is 734\n"
     ]
    }
   ],
   "source": [
    "roll_hill_climbing = hill_climbing(biscuits)\n",
    "visualize_roll(roll_hill_climbing)\n",
    "print(f'The total value of the roll is {roll_hill_climbing.total_value()}')"
   ],
   "metadata": {
    "collapsed": false,
    "ExecuteTime": {
     "end_time": "2023-12-27T17:07:02.883491800Z",
     "start_time": "2023-12-27T17:06:59.698463100Z"
    }
   }
  }
 ]
}
