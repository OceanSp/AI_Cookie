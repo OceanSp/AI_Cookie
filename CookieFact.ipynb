{
 "nbformat": 4,
 "nbformat_minor": 0,
 "metadata": {
  "colab": {
   "provenance": []
  },
  "kernelspec": {
   "name": "python3",
   "language": "python",
   "display_name": "Python 3 (ipykernel)"
  },
  "language_info": {
   "name": "python"
  }
 },
 "cells": [
  {
   "cell_type": "markdown",
   "source": [
    "# AI Algorithms Project : Optimize biscuit manufacturing"
   ],
   "metadata": {
    "collapsed": false
   }
  },
  {
   "cell_type": "markdown",
   "source": [
    "A biscuit manufacturing factory is planning to produce a series of biscuits for Christmas. Using\n",
    "the same roll of dough, the factory aims to create various biscuits in different sizes and shapes.\n",
    "The goal is to maximize biscuit production from a single dough roll while ensuring the highest\n",
    "possible profit.\n",
    "To achieve this goal, we have the following information :\n",
    "— The roll of dough is of a predefined rectangular length, referred to as ’LENGTH’, representing a one-dimensional problem.\n",
    "— The roll may contain irregularities, referred to as defects. Each defect has\n",
    "— a position ‘x‘\n",
    "— and a class, which could be one of several types (e.g., ’a’, ’b’, ’c’, ...).\n",
    "— The factory aims to produce a set of biscuits. Each Biscuit can be produced an infinite\n",
    "number of times, and has :\n",
    "— a specific size (along the same dimension as the roll)\n",
    "— a value (price)\n",
    "— and a threshold for the maximum number of defects of each class it can contain (otherwise it cannot be marketed).\n",
    "A solution is an assignment of biscuits on the roll. For an assignment to be valid, it needs to :\n",
    "— be at integer positions\n",
    "— Ensure no overlap in biscuit placement. For example, if you place a biscuit B1 of size 3 at\n",
    "position ‘x=2‘, you cannot have any biscuit assigned at positions ‘x=3‘ or ‘x=4‘.\n",
    "— Ensure that each biscuit placed on the roll contains fewer defects (or an equal number) of\n",
    "each class than its thresholds permit. For example, a biscuit B1 of size 3 placed at ‘x=2‘\n",
    "includes all defects in the interval [2, 4]. If there are 3 defects of class ’a’ in this interval,\n",
    "and B1’s threshold for class ’a’ is a maximum of 2 defects, then the assignment is invalid.\n",
    "— Ensure that the sum of the sizes of the assigned biscuits does not exceed the length of the\n",
    "roll of dough.\n",
    "The value of a solution is the sum of the values of the individual biscuits placed on it. Any part\n",
    "of the roll of dough without a biscuit assigned is considered to have a value of 0.\n",
    "2.1 Benchmark\n",
    "For this project, the following assumptions are made :\n",
    "— The length of the roll of dough is set to 500 units.\n",
    "— The roll has three classes of defects (’a’, ’b’, and ’c’). The set of defects and their positions\n",
    "on the roll are available in the ’defects.csv’ file.\n",
    "— The biscuit manufacturing factory aims to produce 4 types of biscuits, which are :\n",
    "— Biscuit 0 with a length of 4, a value 6, and maximum allowed defects as {'a' : 4, 'b' : 2, 'c' : 3}\n",
    "— Biscuit 1 with a length of 8, a value 12, and maximum allowed defects as{'a' : 5, 'b' : 4, 'c' : 4}\n",
    "— Biscuit 2 with a length of 2, a value 1, and maximum allowed defects as {'a' : 1, 'b' : 2, 'c' : 1}\n",
    "— Biscuit 3 with a length of 5, a value 8, and maximum allowed defects as {'a' : 2, 'b' : 3, 'c' : 2}"
   ],
   "metadata": {
    "collapsed": false
   }
  },
  {
   "cell_type": "markdown",
   "source": [
    "# 1- Define the problem\n",
    "Our goal here is to maximize the profit from a roll of doughby creating several biscuits while adressing specific constraints.\n",
    "Our roll has a fixed length, it contains defects,\n",
    "a biscuit is defined by its:\n",
    "\n",
    "1.   size\n",
    "2.   value\n",
    "2.   tolerance for certain defect classes\n",
    "\n",
    "\n",
    "\n",
    "\n",
    "We want to arrange the biscuits on the roll of dough optimally so as to maximize the profit.\n",
    "\n"
   ],
   "metadata": {
    "collapsed": false
   }
  },
  {
   "cell_type": "markdown",
   "source": [
    "# 2 - Python Implementation\n"
   ],
   "metadata": {
    "collapsed": false
   }
  },
  {
   "cell_type": "code",
   "execution_count": 1,
   "outputs": [],
   "source": [
    "import pandas as pd\n",
    "import numpy as np\n",
    "import matplotlib.pyplot as plt"
   ],
   "metadata": {
    "collapsed": false,
    "ExecuteTime": {
     "end_time": "2023-12-25T19:57:13.099921Z",
     "start_time": "2023-12-25T19:57:12.695200800Z"
    }
   }
  },
  {
   "cell_type": "markdown",
   "source": [
    "Classe Biscuit : Pour représenter chaque type de biscuit avec ses propriétés (taille, valeur, seuils de défauts).\n",
    "Classe Defect : Pour représenter les défauts dans le rouleau de pâte, avec des attributs pour leur position et leur classe.\n",
    "Classe Roll : Pour représenter le rouleau de pâte, avec des attributs pour sa longueur, les défauts qu'il contient, et les biscuits qui lui sont assignés.\n",
    "Fonction de Vérification des Contraintes : Pour s'assurer qu'une affectation de biscuits respecte toutes les contraintes (pas de chevauchement, respect des seuils de défauts, etc.).\n",
    "Fonction de Calcul de la Valeur : Pour calculer la valeur totale d'une affectation de biscuits sur le rouleau.\n",
    "Fonction de Placement de Biscuits : Pour essayer différentes configurations de placement de biscuits et choisir la meilleure selon la méthode choisie (heuristique ou CSP).\n",
    "Fonction Principale / Algorithme de Résolution : Pour orchestrer le processus de résolution, en utilisant soit les méthodes heuristiques, soit les techniques CSP."
   ],
   "metadata": {
    "collapsed": false
   }
  },
  {
   "cell_type": "code",
   "execution_count": 3,
   "outputs": [],
   "source": [
    "class Biscuit:\n",
    "    \"\"\"\n",
    "    A class to represent a biscuit.\n",
    "    \n",
    "    Attributes\n",
    "    ----------\n",
    "    size : int\n",
    "        the size of the biscuit\n",
    "    value : int\n",
    "        the value of the biscuit\n",
    "    defects : dict\n",
    "        the maximum number of defects of each class the biscuit can contain\n",
    "    \"\"\"\n",
    "    \n",
    "    def __init__(self, size, value, defects):\n",
    "        self.size = size\n",
    "        self.value = value\n",
    "        self.defects = defects\n",
    "\n",
    "    def __str__(self):\n",
    "        return f'Biscuit(size={self.size}, value={self.value}, defects={self.defects})'\n",
    "\n",
    "class Defect:\n",
    "    \"\"\"\n",
    "    A class to represent a defect.\n",
    "    \n",
    "    Attributes\n",
    "    ----------\n",
    "    position : int\n",
    "        the position of the defect\n",
    "    classe : str\n",
    "        the class of the defect\n",
    "    \"\"\"\n",
    "    \n",
    "    def __init__(self, position, classe):\n",
    "        self.position = position\n",
    "        self.classe = classe\n",
    "\n",
    "    def __str__(self):\n",
    "        return f'Defect(position={self.position}, classe={self.classe})'\n",
    "        "
   ],
   "metadata": {
    "collapsed": false,
    "ExecuteTime": {
     "end_time": "2023-12-25T19:58:39.755414300Z",
     "start_time": "2023-12-25T19:58:39.726438Z"
    }
   }
  },
  {
   "cell_type": "markdown",
   "source": [
    "Let's define our 4 type of biscuits that the factory is producing. categorised as biscuit 0, biscuit 1, biscuit 2 and biscuit 3.\n",
    "\n",
    "We will also define the defects in the roll of dough as a list of Defect objects."
   ],
   "metadata": {
    "collapsed": false
   }
  },
  {
   "cell_type": "code",
   "execution_count": 7,
   "outputs": [],
   "source": [
    "# Read the defects from the csv file\n",
    "\n",
    "defects = pd.read_csv('defects.csv', header=None, names=['position', 'classe'])\n",
    "defects = [Defect(position, classe) for position, classe in zip(defects['position'], defects['classe'])]\n",
    "\n",
    "biscuits = [\n",
    "    Biscuit(size=4, value=6, defects={'a': 4, 'b': 2, 'c': 3}),\n",
    "    Biscuit(8, 12, {'a': 5, 'b': 4, 'c': 4}),\n",
    "    Biscuit(2, 1, {'a': 1, 'b': 2, 'c': 1}),\n",
    "    Biscuit(5, 8, {'a': 2, 'b': 3, 'c': 2})\n",
    "]"
   ],
   "metadata": {
    "collapsed": false,
    "ExecuteTime": {
     "end_time": "2023-12-25T22:20:47.694312400Z",
     "start_time": "2023-12-25T22:20:47.674378300Z"
    }
   }
  },
  {
   "cell_type": "code",
   "execution_count": null,
   "outputs": [],
   "source": [
    "class Roll:\n",
    "    \"\"\"\n",
    "    A class to represent a roll of dough.\n",
    "    It contains also the information of the assigned biscuits and their positions.\n",
    "    \n",
    "    Attributes\n",
    "    ----------\n",
    "    length : int\n",
    "        the length of the roll\n",
    "    defects : list\n",
    "        the list of defects in the roll\n",
    "    assigned_biscuits : tuple(Biscuit, int)\n",
    "        the list of assigned biscuits with the type of biscuit and its starting position\n",
    "    \n",
    "    Methods\n",
    "    -------\n",
    "    \n",
    "    \"\"\"\n",
    "    \n",
    "    def __init__(self, length=500, defects = defects):\n",
    "        self.length = length\n",
    "        self.defects = defects\n",
    "        self.assigned_biscuits = []\n",
    "        \n",
    "    def __str__(self):\n",
    "        return f'Roll(length={self.length}, defects={self.defects}, assigned_biscuits={self.assigned_biscuits})'\n",
    "    \n",
    "    def check_constraints(self, biscuit, position):\n",
    "        \"\"\" \n",
    "        Check if an assignment of a biscuit on the roll is valid.\n",
    "        It checks if the assignment respects the following constraints:\n",
    "        - There is no overlap in biscuit placement\n",
    "        - Each biscuit placed on the roll contains fewer defects (or an equal number) of each class than its thresholds permit\n",
    "        - The sum of the sizes of the assigned biscuits does not exceed the length of the roll of dough\n",
    "        \n",
    "        Args:\n",
    "            biscuit (Biscuit): the biscuit to be placed\n",
    "            position (int): the position of the biscuit in the roll\n",
    "            \n",
    "        Returns:\n",
    "            bool: True if the assignment is valid, False otherwise\n",
    "        \"\"\"\n",
    "        \n",
    "        # Check if there is no overlap in biscuit placement\n",
    "        for assigned_biscuit in self.assigned_biscuits:\n",
    "            if position <= assigned_biscuit[1] < position + biscuit.size: # if the starting position of the already placed biscuit is in the interval of the new biscuit\n",
    "                return False\n",
    "            if assigned_biscuit[1] <= position < assigned_biscuit[1] + assigned_biscuit[0].size: # if the starting position of the new biscuit is in the interval of the already placed biscuit\n",
    "                return False\n",
    "        \n",
    "        # Check if the biscuit contains fewer defects (or an equal number) of each class than its thresholds permit\n",
    "        for classe, threshold in biscuit.defects.items():\n",
    "            for defect in self.defects:\n",
    "                if defect.position in range(position, position + biscuit.size) and defect.classe == classe: # if the defect is in the interval of the biscuit, decrease the threshold of defect type\n",
    "                    threshold -= 1\n",
    "            if threshold < 0:\n",
    "                return False\n",
    "        \n",
    "        \n",
    "        # Check if the sum of the sizes of the assigned biscuits does not exceed the length of the roll of dough\n",
    "        if sum([assigned_biscuit[0].size for assigned_biscuit in self.assigned_biscuits]) + biscuit.size > self.length:\n",
    "            return False\n",
    "        \n",
    "        return True"
   ],
   "metadata": {
    "collapsed": false
   }
  },
  {
   "cell_type": "markdown",
   "source": [],
   "metadata": {
    "collapsed": false
   }
  },
  {
   "cell_type": "code",
   "execution_count": 5,
   "outputs": [],
   "source": [],
   "metadata": {
    "collapsed": false,
    "ExecuteTime": {
     "end_time": "2023-12-25T20:06:54.359581300Z",
     "start_time": "2023-12-25T20:06:54.332670600Z"
    }
   }
  },
  {
   "cell_type": "markdown",
   "source": [],
   "metadata": {
    "collapsed": false
   }
  }
 ]
}
