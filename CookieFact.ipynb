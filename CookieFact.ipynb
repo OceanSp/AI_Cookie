{
 "nbformat": 4,
 "nbformat_minor": 0,
 "metadata": {
  "colab": {
   "provenance": []
  },
  "kernelspec": {
   "name": "python3",
   "language": "python",
   "display_name": "Python 3 (ipykernel)"
  },
  "language_info": {
   "name": "python"
  }
 },
 "cells": [
  {
   "cell_type": "markdown",
   "source": [
    "# AI Algorithms Project : Optimize biscuit manufacturing"
   ],
   "metadata": {
    "collapsed": false
   }
  },
  {
   "cell_type": "markdown",
   "source": [
    "# 1- Define the problem\n",
    "Our goal here is to maximize the profit from a roll of doughby creating several biscuits while adressing specific constraints.\n",
    "Our roll has a fixed length, it contains defects,\n",
    "a biscuit is defined by its:\n",
    "\n",
    "1.   size\n",
    "2.   value\n",
    "2.   tolerance for certain defect classes\n",
    "\n",
    "\n",
    "\n",
    "\n",
    "We want to arrange the biscuits on the roll of dough optimally so as to maximize the profit.\n",
    "\n"
   ],
   "metadata": {
    "collapsed": false
   }
  },
  {
   "cell_type": "markdown",
   "source": [
    "# 2 - Python Implementation\n"
   ],
   "metadata": {
    "collapsed": false
   }
  },
  {
   "cell_type": "markdown",
   "source": [
    "#### We will first define our classes for the biscuits and the defects."
   ],
   "metadata": {
    "collapsed": false
   }
  },
  {
   "cell_type": "code",
   "execution_count": 463,
   "outputs": [],
   "source": [
    "import pandas as pd\n",
    "import numpy as np\n",
    "import matplotlib.pyplot as plt"
   ],
   "metadata": {
    "collapsed": false,
    "ExecuteTime": {
     "end_time": "2023-12-27T20:53:27.300601700Z",
     "start_time": "2023-12-27T20:53:27.202928100Z"
    }
   }
  },
  {
   "cell_type": "code",
   "execution_count": 464,
   "outputs": [],
   "source": [
    "class Biscuit:\n",
    "    \"\"\"\n",
    "    A class to represent a biscuit.\n",
    "    \n",
    "    Attributes\n",
    "    ----------\n",
    "    size : int\n",
    "        the size of the biscuit\n",
    "    value : int\n",
    "        the value of the biscuit\n",
    "    defects : dict\n",
    "        the maximum number of defects of each class the biscuit can contain\n",
    "    \"\"\"\n",
    "    \n",
    "    def __init__(self, size, value, defects_threshold):\n",
    "        self.size = size\n",
    "        self.value = value\n",
    "        self.defects_threshold = defects_threshold\n",
    "\n",
    "    def __str__(self):\n",
    "        return f'Biscuit(size={self.size}, value={self.value}, defects={self.defects_threshold})'\n",
    "\n",
    "class Defect:\n",
    "    \"\"\"\n",
    "    A class to represent a defect.\n",
    "    \n",
    "    Attributes\n",
    "    ----------\n",
    "    position : int\n",
    "        the position of the defect\n",
    "    classe : str\n",
    "        the class of the defect\n",
    "    \"\"\"\n",
    "    \n",
    "    def __init__(self, position, classe):\n",
    "        self.position = position\n",
    "        self.classe = classe\n",
    "\n",
    "    def __str__(self):\n",
    "        return f'Defect(position={self.position}, classe={self.classe})'\n",
    "        "
   ],
   "metadata": {
    "collapsed": false,
    "ExecuteTime": {
     "end_time": "2023-12-27T20:53:27.350435Z",
     "start_time": "2023-12-27T20:53:27.213892Z"
    }
   }
  },
  {
   "cell_type": "markdown",
   "source": [
    "#### Let's define our 4 type of biscuits that the factory is producing.\n",
    "\n",
    "#### We will also define the defects in the roll of dough as a list of Defect objects."
   ],
   "metadata": {
    "collapsed": false
   }
  },
  {
   "cell_type": "code",
   "execution_count": 465,
   "outputs": [
    {
     "name": "stdout",
     "output_type": "stream",
     "text": [
      "Defects:\n",
      "Defect(position=355.44933495113816, classe=c)\n",
      "Defect(position=92.49623624899967, classe=a)\n",
      "Defect(position=141.87679475713, classe=c)\n",
      "Defect(position=431.833901528095, classe=c)\n",
      "Defect(position=435.02846071222535, classe=c)\n",
      "Defect(position=205.80069498110913, classe=a)\n",
      "Defect(position=34.68761156005529, classe=b)\n",
      "Defect(position=443.5663536577713, classe=a)\n",
      "Defect(position=69.42321664429218, classe=a)\n",
      "Defect(position=301.2810691469357, classe=a)\n"
     ]
    }
   ],
   "source": [
    "# Read the defects from the csv file\n",
    "\n",
    "defects = pd.read_csv('defects.csv', header=None, names=['position', 'classe'])\n",
    "defects = [Defect(position, classe) for position, classe in zip(defects['position'], defects['classe'])]\n",
    "# we remove the first value to avoid position x and class = class\n",
    "defects = defects[1:]\n",
    "\n",
    "\n",
    "\n",
    "biscuits = [\n",
    "    Biscuit(size=4, value=6, defects_threshold={'a': 4, 'b': 2, 'c': 3}),\n",
    "    Biscuit(8, 12, {'a': 5, 'b': 4, 'c': 4}),\n",
    "    Biscuit(2, 1, {'a': 1, 'b': 2, 'c': 1}),\n",
    "    Biscuit(5, 8, {'a': 2, 'b': 3, 'c': 2})\n",
    "]\n",
    "\n",
    "# display the 10 first defects \n",
    "print('Defects:')\n",
    "for defect in defects[:10]:\n",
    "    print(defect)"
   ],
   "metadata": {
    "collapsed": false,
    "ExecuteTime": {
     "end_time": "2023-12-27T20:53:27.371364900Z",
     "start_time": "2023-12-27T20:53:27.225851100Z"
    }
   }
  },
  {
   "cell_type": "markdown",
   "source": [
    "#### We now have to define our roll of dough. A fresh roll will contains our defects and will be empty at first."
   ],
   "metadata": {
    "collapsed": false
   }
  },
  {
   "cell_type": "code",
   "execution_count": 466,
   "outputs": [],
   "source": [
    "class Roll:\n",
    "    \"\"\"\n",
    "    A class to represent a roll of dough.\n",
    "    This is the main class where all of our interactions concerning checking and placing biscuits on the roll will happen.\n",
    "    \n",
    "    Attributes\n",
    "    ----------\n",
    "    length : int\n",
    "        the length of the roll\n",
    "    defects : list\n",
    "        the list of defects in the roll\n",
    "    assigned_biscuits : tuple(Biscuit, int)\n",
    "        the list of assigned biscuits with the type of biscuit and its starting position\n",
    "    \"\"\"\n",
    "    \n",
    "    def __init__(self, length=500, defects = defects):\n",
    "        self.length = length\n",
    "        self.defects = defects\n",
    "        self.assigned_biscuits = []\n",
    "        \n",
    "    def __str__(self):\n",
    "        return f'Roll(length={self.length}, defects={self.defects}, assigned_biscuits={self.assigned_biscuits})'\n",
    "    \n",
    "    def check_constraints(self, biscuit, position):\n",
    "        \"\"\" \n",
    "        Check if an assignment of a biscuit on the roll is valid.\n",
    "        It checks if the assignment respects the following constraints:\n",
    "        - There is no overlap in biscuit placement\n",
    "        - Each biscuit placed on the roll contains fewer defects (or an equal number) of each class than its thresholds permit\n",
    "        - The sum of the sizes of the assigned biscuits does not exceed the length of the roll of dough\n",
    "        \n",
    "        Args:\n",
    "            biscuit (Biscuit): the biscuit to be placed\n",
    "            position (int): the position of the biscuit in the roll\n",
    "            \n",
    "        Returns:\n",
    "            bool: True if all the constraints are respected, False otherwise\n",
    "        \"\"\"\n",
    "        \n",
    "        # Check if there is no overlap in biscuit placement\n",
    "        for assigned_biscuit in self.assigned_biscuits:\n",
    "            if position <= assigned_biscuit[1] < position + biscuit.size: # if the starting position of the already placed biscuit is in the interval of the new biscuit\n",
    "                return False\n",
    "            if assigned_biscuit[1] <= position < assigned_biscuit[1] + assigned_biscuit[0].size: # if the starting position of the new biscuit is in the interval of the already placed biscuit\n",
    "                return False\n",
    "        \n",
    "        # Check if the placement of the biscuit does not exceed the maximum number of defects of each class\n",
    "        for classe in biscuit.defects_threshold.keys():\n",
    "            # Get the number of defects of the class in the interval of the biscuit\n",
    "            nb_defects = len([defect for defect in self.defects if defect.classe == classe and position <= float(defect.position) < position + biscuit.size])\n",
    "            if nb_defects > biscuit.defects_threshold[classe]: # if the number of defects of the class in the interval of the biscuit is greater than the maximum number of defects of the class\n",
    "                return False\n",
    "                \n",
    "        # Check if the sum of the sizes of the assigned biscuits does not exceed the length of the roll of dough\n",
    "        if sum([assigned_biscuit[0].size for assigned_biscuit in self.assigned_biscuits]) + biscuit.size > self.length:\n",
    "            return False\n",
    "        \n",
    "        return True\n",
    "    \n",
    "    def total_value(self):\n",
    "        \"\"\" \n",
    "        Calculate the total value of the assigned biscuits on the roll\n",
    "        \n",
    "        Returns:\n",
    "            int: the value of our roll\n",
    "        \"\"\"\n",
    "        return sum([assigned_biscuit[0].value for assigned_biscuit in self.assigned_biscuits])\n",
    "    \n",
    "    def place_biscuit(self, biscuit, position):\n",
    "        \"\"\"\n",
    "        Place a biscuit on the roll at a given position while checking the constraints\n",
    "        \n",
    "        Args:\n",
    "            biscuit (Biscuit): the biscuit to be placed\n",
    "            position (int): the starting position of the biscuit to be placed\n",
    "        \"\"\"\n",
    "        if self.check_constraints(biscuit, position):\n",
    "            self.assigned_biscuits.append((biscuit, position))\n",
    "            self.assigned_biscuits.sort(key=lambda assigned_biscuit: assigned_biscuit[1]) # sort the list of assigned biscuits by their starting position\n",
    "            return True\n",
    "        return False\n",
    "        \n",
    "    def remove_biscuit(self, biscuit, position):\n",
    "        \"\"\"\n",
    "        Remove a biscuit from the roll at a given position\n",
    "        \n",
    "        Args:\n",
    "            biscuit (Biscuit): the biscuit to be removed\n",
    "            position (int): the starting position of the biscuit in the roll\n",
    "        \"\"\"\n",
    "        self.assigned_biscuits.remove((biscuit, position))\n",
    "        \n",
    "    def get_biscuit(self, position):\n",
    "        \"\"\"\n",
    "        Get the biscuit at a given position\n",
    "        \n",
    "        Args:\n",
    "            position (int): the position of the biscuit in the roll\n",
    "            \n",
    "        Returns:\n",
    "            Biscuit: the biscuit at the given position\n",
    "        \"\"\"\n",
    "        for assigned_biscuit in self.assigned_biscuits:\n",
    "            if assigned_biscuit[1] <= position < assigned_biscuit[1] + assigned_biscuit[0].size:\n",
    "                return assigned_biscuit[0]\n",
    "        return None"
   ],
   "metadata": {
    "collapsed": false,
    "ExecuteTime": {
     "end_time": "2023-12-27T20:53:27.387311700Z",
     "start_time": "2023-12-27T20:53:27.245784600Z"
    }
   }
  },
  {
   "cell_type": "markdown",
   "source": [
    "#### Let's create our first roll of dough with a length of 500 units and assign the defects to it.\n",
    "\n",
    "we also make a roll of test where we manually place some biscuits to test our functions."
   ],
   "metadata": {
    "collapsed": false
   }
  },
  {
   "cell_type": "code",
   "execution_count": 467,
   "outputs": [
    {
     "data": {
      "text/plain": "False"
     },
     "execution_count": 467,
     "metadata": {},
     "output_type": "execute_result"
    }
   ],
   "source": [
    "roll = Roll()\n",
    "roll_test = Roll()\n",
    "roll_test.place_biscuit(biscuits[0], 0)\n",
    "roll_test.place_biscuit(biscuits[1], 4)\n",
    "roll_test.place_biscuit(biscuits[1], 126)\n",
    "roll_test.place_biscuit(biscuits[2], 12)\n",
    "roll_test.place_biscuit(biscuits[3], 14)\n",
    "roll_test.place_biscuit(biscuits[0], 100)\n",
    "roll_test.place_biscuit(biscuits[2], 144)\n",
    "roll_test.place_biscuit(biscuits[3], 146)"
   ],
   "metadata": {
    "collapsed": false,
    "ExecuteTime": {
     "end_time": "2023-12-27T20:53:27.389305100Z",
     "start_time": "2023-12-27T20:53:27.260735500Z"
    }
   }
  },
  {
   "cell_type": "markdown",
   "source": [
    "#### Let's define a function to visualize the roll of dough with the assigned biscuits and the defects.\n"
   ],
   "metadata": {
    "collapsed": false
   }
  },
  {
   "cell_type": "code",
   "execution_count": 468,
   "outputs": [],
   "source": [
    "def visualize_roll(roll, biscuits=biscuits):\n",
    "    \"\"\"\n",
    "    Visualize the roll of dough with each biscuit type in a different color\n",
    "    \n",
    "    Args:\n",
    "        roll (Roll): the roll of dough to visualize\n",
    "        biscuits (list): the list of biscuits produced by the factory\n",
    "    \"\"\"\n",
    "    \n",
    "    plt.figure(figsize=(20, 1))\n",
    "    plt.xlim(0, roll.length)\n",
    "    plt.ylim(0, 1)\n",
    "    plt.yticks([])\n",
    "    plt.xticks(np.arange(0, roll.length, 10))\n",
    "    plt.title('Roll of dough with different biscuits')\n",
    "    colors = ['tab:blue', 'tab:orange', 'tab:green', 'tab:red']\n",
    "\n",
    "    for assigned_biscuit in roll.assigned_biscuits:\n",
    "        biscuit_index = next((i for i, biscuit in enumerate(biscuits) if biscuit.size == assigned_biscuit[0].size), None) # we want to categorize the biscuits by their size so we can use the same color for each biscuit size\n",
    "        if biscuit_index is not None:\n",
    "            color = colors[biscuit_index]\n",
    "            plt.barh(0, assigned_biscuit[0].size, left=assigned_biscuit[1], height=2, color=color, edgecolor='black', linewidth=1)\n",
    "    \n",
    "    # define the 4 labels that will appear in the legend \n",
    "    for i, biscuit in enumerate(biscuits):\n",
    "        plt.barh(0, 0, color=colors[i], label=f'Biscuit {i}')\n",
    "    \n",
    "    plt.legend(loc='upper center', bbox_to_anchor=(0.5, -0.3), fancybox=True, shadow=True, ncol=5)\n",
    "    plt.show()\n",
    "    \n",
    "        "
   ],
   "metadata": {
    "collapsed": false,
    "ExecuteTime": {
     "end_time": "2023-12-27T20:53:27.391298400Z",
     "start_time": "2023-12-27T20:53:27.272694900Z"
    }
   }
  },
  {
   "cell_type": "code",
   "execution_count": 469,
   "outputs": [
    {
     "data": {
      "text/plain": "<Figure size 2000x100 with 1 Axes>",
      "image/png": "[encoded data removed]"
     },
     "metadata": {},
     "output_type": "display_data"
    }
   ],
   "source": [
    "visualize_roll(roll_test)"
   ],
   "metadata": {
    "collapsed": false,
    "ExecuteTime": {
     "end_time": "2023-12-27T20:53:27.447255Z",
     "start_time": "2023-12-27T20:53:27.287645300Z"
    }
   }
  },
  {
   "cell_type": "markdown",
   "source": [
    "#### We can see with our roll test that the biscuits are placed correctly and that the defects are present. Some biscuits can't be placed because of the defects."
   ],
   "metadata": {
    "collapsed": false
   }
  },
  {
   "cell_type": "markdown",
   "source": [],
   "metadata": {
    "collapsed": false
   }
  },
  {
   "cell_type": "markdown",
   "source": [
    "# Implement a heuristic algorithm\n",
    "\n",
    "## Pertinence pour Votre Projet\n",
    "Dans votre projet de fabrication de biscuits, une approche heuristique peut être très efficace pour placer les biscuits sur le rouleau de manière à maximiser le profit, en tenant compte des contraintes de défauts et de la taille du rouleau. Une heuristique possible pourrait être de prioriser le placement des biscuits avec le plus haut ratio valeur/taille, tout en respectant les contraintes de défauts.\n",
    "\n",
    "## Squelette de l'IA Heuristique\n",
    "Pour mettre en œuvre une IA heuristique dans votre projet, vous pourriez envisager les composants suivants :\n",
    "\n",
    "- Fonction de Sélection Heuristique :\n",
    "Détermine quel biscuit placer ensuite en fonction d'une règle simple, par exemple, en choisissant le biscuit avec le meilleur ratio valeur/taille ou le moins de contraintes de défauts.\n",
    "\n",
    "- Fonction de Placement de Biscuits :\n",
    "Place le biscuit sélectionné sur le rouleau à la position optimale tout en respectant les contraintes.\n",
    "\n",
    "- Boucle Principale pour la Construction de la Solution :\n",
    "Répète le processus de sélection et de placement jusqu'à ce que le rouleau soit plein ou qu'aucun autre biscuit ne puisse être placé.\n",
    "\n",
    "- Fonction d'Évaluation :\n",
    "Évalue la valeur totale des biscuits placés sur le rouleau et vérifie si les contraintes sont respectées.\n",
    "\n",
    "- Optionnel - Ajustement et Amélioration :\n",
    "Après la construction initiale, vous pouvez envisager d'ajouter une phase où la solution est ajustée pour tenter d'améliorer la valeur totale, par exemple en remplaçant certains biscuits ou en ajustant leurs positions."
   ],
   "metadata": {
    "collapsed": false
   }
  },
  {
   "cell_type": "markdown",
   "source": [
    "# Fonctionnement du Hill Climbing pour Votre Problème\n",
    "- Le Hill Climbing est une méthode d'optimisation qui vise à améliorer progressivement une solution en faisant de petits changements. Voici comment l'appliquer à votre projet de placement de biscuits :\n",
    "\n",
    "- Solution Initiale : Commencez avec une solution initiale. Cette solution peut être un rouleau vide ou un rouleau avec une disposition aléatoire ou simple des biscuits.\n",
    "\n",
    "- Génération de Voisins : À partir de cette solution, générez des \"voisins\" en faisant de petits changements. Par exemple, ajoutez un biscuit, déplacez un biscuit existant, ou remplacez un type de biscuit par un autre.\n",
    "\n",
    "- Évaluation : Évaluez chaque solution voisine. Dans votre cas, cela signifierait calculer la valeur totale des biscuits sur le rouleau tout en vérifiant que les contraintes (comme les défauts et la longueur maximale du rouleau) sont respectées.\n",
    "\n",
    "- Choix de la Meilleure Solution : Si une solution voisine est meilleure (c'est-à-dire, elle a une valeur totale plus élevée sans enfreindre les contraintes), remplacez votre solution actuelle par cette solution voisine.\n",
    "\n",
    "- Répétition : Répétez ce processus jusqu'à ce qu'aucune amélioration ne soit possible ou qu'un critère d'arrêt soit atteint (par exemple, un nombre maximum d'itérations).\n",
    "\n",
    "# Implémentation du Hill Climbing\n",
    "#### Pour implémenter le Hill Climbing, vous pourriez avoir besoin des éléments suivants :\n",
    "\n",
    "- Fonction pour Générer des Voisins :\n",
    "Cette fonction modifie légèrement la disposition actuelle des biscuits pour créer de nouvelles configurations.\n",
    "Par exemple, elle pourrait essayer d'ajouter un biscuit à différentes positions, déplacer un biscuit existant, ou remplacer un type de biscuit par un autre.\n",
    "\n",
    "- Fonction d'Évaluation :\n",
    "Utilisez ou modifiez votre méthode existante pour évaluer la valeur totale des biscuits sur le rouleau et vérifier si les contraintes sont respectées.\n",
    "\n",
    "- Boucle Principale de Hill Climbing :\n",
    "Cette boucle contrôle le processus d'optimisation, en comparant les solutions actuelles et voisines, et en mettant à jour la solution actuelle si une meilleure est trouvée.\n",
    "\n",
    "- Critère d'Arrêt :\n",
    "Définissez un critère d'arrêt pour la boucle principale, comme un nombre maximum d'itérations ou l'absence d'amélioration après un certain nombre de tentatives."
   ],
   "metadata": {
    "collapsed": false
   }
  },
  {
   "cell_type": "markdown",
   "source": [
    "# Implementing Hill Climbing method\n",
    "\n",
    "## Why Hill Climbing is an Effective Method for Our Problem\n",
    "Hill Climbing is an optimization technique makes small changes many times to improve step by step our solution. In our context of our biscuit manufacturing problem, Hill Climbing is particularly effective because it allows us to explore all the roll through many iterations and make adjustments to biscuit placements in order to increase bit by bit our total value. The ability to find better solutions from a given starting point, is ideal for problems like ours with many potential configurations.\n",
    "\n",
    "#### To apply Hill Climbing to our biscuit placement problem, we'll follow these steps:\n",
    "\n",
    "- Initial Solution :\n",
    "We begin with an initial solution, Here we started by a simple random solution or a kind of greedy algorithm. Those simple initial solutions are starting point that serves as the basis for further optimization.\n",
    "\n",
    "- Generating Neighbors :\n",
    "From this initial solution, we generate 'neighbors' by making small modifications. These changes are made by taking randomly some group of biscuits and trying to find a better adjustments. The goal is to slightly alter the configuration in search of a better arrangement.\n",
    "\n",
    "- Evaluation :\n",
    "Each neighboring solution is evaluated to determine its effectiveness. In our case, this involves calculating the total value of the biscuits on the roll.\n",
    "\n",
    "- Choosing the Best Solution :\n",
    "If a neighboring solution proves to be better than the current roll. Meaning that its value is higher, we replace the current solution with this neighbor. \n",
    "\n",
    "- Iteration and Repetition :\n",
    "This process is repeated until no further improvements are found, or until a predetermined stopping criterion is met (like a maximum number of iterations). This iterative nature allows Hill Climbing to explore various configurations, adapting and improving upon the arrangement of biscuits on the roll."
   ],
   "metadata": {
    "collapsed": false
   }
  },
  {
   "cell_type": "markdown",
   "source": [
    "#### Let's start by creating our initial solution. In case the hill climbing get stuck in a local optimum, we will try adding some randomization to the initial solution. So we can see how this randomization can help us get a better solution.\n",
    "For this initial solution we will randomly take a biscuit and place it at the first position where it can be placed. We will repeat this process until we can't place any more biscuits."
   ],
   "metadata": {
    "collapsed": false
   }
  },
  {
   "cell_type": "code",
   "execution_count": 470,
   "outputs": [],
   "source": [
    "def generate_initial_solution(biscuits):\n",
    "    \"\"\"\n",
    "    Generate an initial solution.\n",
    "    \n",
    "    Args:\n",
    "        biscuits (list): the list of biscuits produced by the factory\n",
    "        roll (Roll): the empty roll of dough\n",
    "        \n",
    "    Returns:\n",
    "        Roll: the roll of dough with the biscuits placed on it\n",
    "    \"\"\"\n",
    "    \n",
    "    # We make a copy of the list of biscuits so we can remove the biscuit type if it can't be placed anymore\n",
    "    biscuits = biscuits.copy()\n",
    "    roll = Roll()\n",
    "    while True:\n",
    "        placed = False\n",
    "        current_biscuit = np.random.choice(biscuits)\n",
    "        for position in range(roll.length - current_biscuit.size + 1):\n",
    "            if roll.place_biscuit(current_biscuit, position):\n",
    "                placed = True\n",
    "                break\n",
    "        if not placed: # if the biscuit can't be placed after trying all the positions, we remove it from the list\n",
    "            biscuits.remove(current_biscuit)\n",
    "        if len(biscuits) == 0:\n",
    "            break\n",
    "    return roll"
   ],
   "metadata": {
    "collapsed": false,
    "ExecuteTime": {
     "end_time": "2023-12-27T20:53:27.447255Z",
     "start_time": "2023-12-27T20:53:27.413225Z"
    }
   }
  },
  {
   "cell_type": "code",
   "execution_count": 471,
   "outputs": [
    {
     "data": {
      "text/plain": "<Figure size 2000x100 with 1 Axes>",
      "image/png": "[encoded data removed]"
     },
     "metadata": {},
     "output_type": "display_data"
    },
    {
     "name": "stdout",
     "output_type": "stream",
     "text": [
      "The total value of the roll is 639\n"
     ]
    }
   ],
   "source": [
    "roll_initial = generate_initial_solution(biscuits)\n",
    "visualize_roll(roll_initial)\n",
    "print(f'The total value of the roll is {roll_initial.total_value()}')"
   ],
   "metadata": {
    "collapsed": false,
    "ExecuteTime": {
     "end_time": "2023-12-27T20:53:27.704393900Z",
     "start_time": "2023-12-27T20:53:27.429314800Z"
    }
   }
  },
  {
   "cell_type": "markdown",
   "source": [
    "#### Let's see with several initial solutions what is the highest value we can get and the mean value of the solutions, out of 50 initial solutions.\n"
   ],
   "metadata": {
    "collapsed": false
   }
  },
  {
   "cell_type": "code",
   "execution_count": 472,
   "outputs": [],
   "source": [
    "def generate_initial_solutions(biscuits, n=50):\n",
    "    \"\"\"\n",
    "    Generate n initial solutions.\n",
    "    \n",
    "    Args:\n",
    "        biscuits (list): the list of biscuits produced by the factory\n",
    "        n (int): the number of initial solutions to generate\n",
    "        \n",
    "    Returns:\n",
    "        list: the list of rolls of dough with the biscuits placed on them\n",
    "    \"\"\"\n",
    "    return [generate_initial_solution(biscuits) for _ in range(n)]"
   ],
   "metadata": {
    "collapsed": false,
    "ExecuteTime": {
     "end_time": "2023-12-27T20:53:27.765190200Z",
     "start_time": "2023-12-27T20:53:27.704393900Z"
    }
   }
  },
  {
   "cell_type": "code",
   "execution_count": 473,
   "outputs": [
    {
     "name": "stdout",
     "output_type": "stream",
     "text": [
      "The highest value of the rolls is 684\n"
     ]
    },
    {
     "data": {
      "text/plain": "<Figure size 2000x100 with 1 Axes>",
      "image/png": "[encoded data removed]"
     },
     "metadata": {},
     "output_type": "display_data"
    },
    {
     "name": "stdout",
     "output_type": "stream",
     "text": [
      "The mean value of the rolls is 656.46\n"
     ]
    }
   ],
   "source": [
    "rolls_initial = generate_initial_solutions(biscuits)\n",
    "\n",
    "print(f'The highest value of the rolls is {max([roll.total_value() for roll in rolls_initial])}')\n",
    "# let's display the best roll\n",
    "visualize_roll(max(rolls_initial, key=lambda roll: roll.total_value()))\n",
    "print(f'The mean value of the rolls is {np.mean([roll.total_value() for roll in rolls_initial])}')"
   ],
   "metadata": {
    "collapsed": false,
    "ExecuteTime": {
     "end_time": "2023-12-27T20:53:32.895350100Z",
     "start_time": "2023-12-27T20:53:27.719344500Z"
    }
   }
  },
  {
   "cell_type": "markdown",
   "source": [
    "#### To Keep a solution that will not be modified by randomness, we will use a greedy approach. We will place the biscuits with the highest value/size ratio first.\n",
    "It's so we can judge the consistency of the hill climbing algorithm."
   ],
   "metadata": {
    "collapsed": false
   }
  },
  {
   "cell_type": "code",
   "execution_count": 474,
   "outputs": [],
   "source": [
    "def generate_initial_greedy_solution(biscuits):\n",
    "    \"\"\"\n",
    "    Generate an initial solution using a greedy approach.\n",
    "    the best biscuit is the one with the highest value/size ratio\n",
    "    that's in order, biscuit 3, biscuit 0, biscuit 1, biscuit 2\n",
    "    \n",
    "    Args:\n",
    "        biscuits (list): the list of biscuits produced by the factory\n",
    "        roll (Roll): the empty roll of dough\n",
    "        \n",
    "    Returns:\n",
    "        Roll: the roll of dough with the biscuits placed on it\n",
    "    \"\"\"\n",
    "    roll = Roll()\n",
    "    biscuits = biscuits.copy()\n",
    "    biscuits.sort(key=lambda biscuit: biscuit.value / biscuit.size, reverse=True)\n",
    "    for biscuit in biscuits:\n",
    "        for position in range(roll.length - biscuit.size + 1):\n",
    "            if roll.place_biscuit(biscuit, position):\n",
    "                continue\n",
    "    return roll"
   ],
   "metadata": {
    "collapsed": false,
    "ExecuteTime": {
     "end_time": "2023-12-27T20:53:32.956977500Z",
     "start_time": "2023-12-27T20:53:32.897343200Z"
    }
   }
  },
  {
   "cell_type": "code",
   "execution_count": 475,
   "outputs": [
    {
     "data": {
      "text/plain": "<Figure size 2000x100 with 1 Axes>",
      "image/png": "[encoded data removed]"
     },
     "metadata": {},
     "output_type": "display_data"
    },
    {
     "name": "stdout",
     "output_type": "stream",
     "text": [
      "The total value of the roll is 705\n"
     ]
    }
   ],
   "source": [
    "roll_initial = generate_initial_greedy_solution(biscuits)\n",
    "visualize_roll(roll_initial)\n",
    "print(f'The total value of the roll is {roll_initial.total_value()}')"
   ],
   "metadata": {
    "collapsed": false,
    "ExecuteTime": {
     "end_time": "2023-12-27T20:53:33.210186600Z",
     "start_time": "2023-12-27T20:53:32.911131Z"
    }
   }
  },
  {
   "cell_type": "markdown",
   "source": [],
   "metadata": {
    "collapsed": false
   }
  },
  {
   "cell_type": "markdown",
   "source": [
    "## Now let's implement the hill climbing algorithm.\n",
    "\n",
    "#### Starting from an initial solution, we will generate a neighbor solution by trying to add a biscuit, move a biscuit or replace a biscuit by another type of biscuit. We will then evaluate the neighbor solution and if it is better than the current solution, we will replace the current solution by the neighbor solution. We will repeat this process until we can't find a better solution or we reach a maximum number of iterations."
   ],
   "metadata": {
    "collapsed": false
   }
  },
  {
   "cell_type": "code",
   "execution_count": 476,
   "outputs": [],
   "source": [
    "def hill_climbing(roll, max_iterations=1000):\n",
    "    \"\"\"\n",
    "    Apply the hill climbing algorithm to find the best solution.\n",
    "    \n",
    "    Args:\n",
    "        biscuits (list): the list of biscuits produced by the factory\n",
    "        max_iterations (int): the maximum number of iterations\n",
    "        \n",
    "    Returns:\n",
    "        Roll: the best roll of dough found\n",
    "    \"\"\"\n",
    "    for _ in range(max_iterations):\n",
    "        # Generate a neighbor solution\n",
    "        neighbor_roll = generate_neighbor_solution(roll)\n",
    "        # Evaluate the neighbor solution\n",
    "        if neighbor_roll.total_value() > roll.total_value(): # if the neighbor solution is better than the current solution\n",
    "            roll = neighbor_roll # we replace the current solution by the neighbor solution\n",
    "            # print(f'Current best roll has a value of {roll.total_value()}') # can be put under comment if we don't want to see the progress\n",
    "            \n",
    "    return roll"
   ],
   "metadata": {
    "collapsed": false,
    "ExecuteTime": {
     "end_time": "2023-12-27T20:53:33.271484500Z",
     "start_time": "2023-12-27T20:53:33.211183300Z"
    }
   }
  },
  {
   "cell_type": "markdown",
   "source": [
    "#### Let's define a function to generate a neighbor solution. We will randomly choose a group of biscuits and try to find a better placement for them.\n",
    "\n",
    "Because of the constraints, moving a biscuit one by one is not very effective, so we will work by groups of biscuits.\n",
    "For this neighbor solution, we will proceed as follows:\n",
    "- We randomly choose the number of biscuits that are gonna be modified (between 2 and 5)\n",
    "- We randomly choose a starting position for the group of biscuits\n",
    "- We now try to fill again the space left by the group of biscuits according to some rules:\n",
    "    - Since we want to maximize the value of the roll, we will try to place a biscuit of size 5 in the group, because it has the best value/size ratio. But since it's the only odd size biscuit, we have to be careful where we place it. In order to avoid empty spaces of 1 unit.\n",
    "    - If the group size is odd, we try to place a biscuit of size 5 at the beginning or at the end of the group\n",
    "    - If the group size is even, we try to place two biscuits of size 5 next to each other\n",
    "    - We then fill the rest of the space with biscuits with good value/size ratio"
   ],
   "metadata": {
    "collapsed": false
   }
  },
  {
   "cell_type": "code",
   "execution_count": 477,
   "outputs": [],
   "source": [
    "import copy\n",
    "\n",
    "def generate_neighbor_solution(roll):\n",
    "    \"\"\"\n",
    "    Generate a neighbor solution.\n",
    "    \n",
    "    Args:\n",
    "        roll (Roll): a suggestion of a roll of dough with the biscuits placed on it\n",
    "        \n",
    "    Returns:\n",
    "        Roll: a new roll with modifications to the biscuits placement\n",
    "    \"\"\"\n",
    "    \n",
    "    roll = copy.deepcopy(roll)\n",
    "    rand = np.random.randint(2, 6) # we choose a random number between 2 and 5\n",
    "    \n",
    "    # We try to be careful not to choose a starting position that is too close to the end of the roll\n",
    "    start_position_max = roll.length - sum([assigned_biscuit[0].size for assigned_biscuit in roll.assigned_biscuits[-rand:]])\n",
    "\n",
    "    # We choose a random starting position for the group\n",
    "    start_position = np.random.randint(0, start_position_max + 1)\n",
    "    \n",
    "    # We get the group of biscuits from the starting position\n",
    "    group = []\n",
    "    for assigned_biscuit in roll.assigned_biscuits:\n",
    "        if start_position <= assigned_biscuit[1] and len(group) < rand:\n",
    "            group.append(assigned_biscuit)\n",
    "    \n",
    "    # We calculate the total size of the group\n",
    "    group_size = group[-1][1] + group[-1][0].size - group[0][1]\n",
    "    \n",
    "    # We first remove the biscuits from the roll\n",
    "    for assigned_biscuit in group:\n",
    "        roll.remove_biscuit(assigned_biscuit[0], assigned_biscuit[1])\n",
    "        \n",
    "    # We will fill smartly the space left by the group of biscuits\n",
    "    roll = fill_small_spaces(roll, group_size, start_position)\n",
    "    \n",
    "    return roll"
   ],
   "metadata": {
    "collapsed": false,
    "ExecuteTime": {
     "end_time": "2023-12-27T20:53:33.276467800Z",
     "start_time": "2023-12-27T20:53:33.229156600Z"
    }
   }
  },
  {
   "cell_type": "markdown",
   "source": [
    "This function follows the rules we defined earlier to fill the space left by the group of biscuits."
   ],
   "metadata": {
    "collapsed": false
   }
  },
  {
   "cell_type": "code",
   "execution_count": 478,
   "outputs": [],
   "source": [
    "def fill_small_spaces(roll, group_size, start_position):\n",
    "    #Let's look at how to place new biscuits in the group\n",
    "    if group_size % 2 == 1: \n",
    "        # For odd group size, if we are able to put a biscuit of size 5 at the beginning or at the end of the group, we will be left by an even space to fill which is easier for us\n",
    "        # We try to place a biscuit of size 5 at the beginning of the group\n",
    "        if roll.place_biscuit(biscuits[3], start_position):\n",
    "            # We next need to fill the rest with the space to get no empty space in the group\n",
    "            # We try to put next to the biscuit of size 5 another biscuit with good value/size ratio\n",
    "            for position in range(start_position + 5, start_position + group_size - 5 + 1, 2):\n",
    "                for biscuit in biscuits:\n",
    "                    if roll.place_biscuit(biscuit, start_position + 5):\n",
    "                        break\n",
    "        else: # if we can't place a biscuit of size 5 at the beginning of the group\n",
    "            # We try to place a biscuit of size 5 at the end of the group\n",
    "            if roll.place_biscuit(biscuits[3], start_position + group_size - 5):\n",
    "                # We next need to fill the rest with the space to get no empty space in the group\n",
    "                # We try to put right before the biscuit of size 5 another biscuit with good value/size ratio\n",
    "                for position in range(start_position, start_position + group_size - 5, 2):\n",
    "                    for biscuit in biscuits:\n",
    "                        if roll.place_biscuit(biscuit, position):\n",
    "                            break\n",
    "                            \n",
    "    else: # if the group size is even\n",
    "        # We try to place somewhere two biscuits of size 5 next to each other to keep the space left by the group even\n",
    "        for position in range(start_position, start_position + group_size - 5 + 1, 2):\n",
    "            if roll.check_constraints(biscuits[3], position) and roll.check_constraints(biscuits[3], position + 5):\n",
    "                roll.place_biscuit(biscuits[3], position)\n",
    "                roll.place_biscuit(biscuits[3], position + 5)\n",
    "            # We next need to fill the rest with the space to get no empty space in the group\n",
    "            # We try to put right before the biscuit of size 5 another biscuit with good value/size ratio\n",
    "            for position in range(start_position, start_position + group_size - 10 + 1, 2):\n",
    "                for biscuit in biscuits:\n",
    "                    if roll.place_biscuit(biscuit, position):\n",
    "                        break\n",
    "                        \n",
    "    return roll"
   ],
   "metadata": {
    "collapsed": false,
    "ExecuteTime": {
     "end_time": "2023-12-27T20:53:33.276467800Z",
     "start_time": "2023-12-27T20:53:33.243109800Z"
    }
   }
  },
  {
   "cell_type": "code",
   "execution_count": 482,
   "outputs": [
    {
     "name": "stdout",
     "output_type": "stream",
     "text": [
      "The total value of the initial is 674\n"
     ]
    },
    {
     "data": {
      "text/plain": "<Figure size 2000x100 with 1 Axes>",
      "image/png": "[encoded data removed]"
     },
     "metadata": {},
     "output_type": "display_data"
    },
    {
     "data": {
      "text/plain": "<Figure size 2000x100 with 1 Axes>",
      "image/png": "[encoded data removed]"
     },
     "metadata": {},
     "output_type": "display_data"
    },
    {
     "name": "stdout",
     "output_type": "stream",
     "text": [
      "The total value of the final roll is 727\n"
     ]
    }
   ],
   "source": [
    "roll_initial =generate_initial_solution(biscuits)\n",
    "print(f'The total value of the initial is {roll_initial.total_value()}')\n",
    "visualize_roll(roll_initial)\n",
    "roll_hill_climbing = hill_climbing(roll_initial)\n",
    "visualize_roll(roll_hill_climbing)\n",
    "print(f'The total value of the final roll is {roll_hill_climbing.total_value()}')"
   ],
   "metadata": {
    "collapsed": false,
    "ExecuteTime": {
     "end_time": "2023-12-27T20:56:26.958091100Z",
     "start_time": "2023-12-27T20:56:23.653595500Z"
    }
   }
  },
  {
   "cell_type": "markdown",
   "source": [
    "I try to run 50 times hill climbing, you can skip this part taking a some time to run"
   ],
   "metadata": {
    "collapsed": false
   }
  },
  {
   "cell_type": "code",
   "execution_count": 480,
   "outputs": [
    {
     "name": "stdout",
     "output_type": "stream",
     "text": [
      "The highest value of the rolls is 731\n",
      "The mean value of the rolls is 714.6\n"
     ]
    }
   ],
   "source": [
    "rolls_hill_climbing = [hill_climbing(generate_initial_solution(biscuits)) for _ in range(50)]\n",
    "print(f'The highest value of the rolls is {max([roll.total_value() for roll in rolls_hill_climbing])}')\n",
    "print(f'The mean value of the rolls is {np.mean([roll.total_value() for roll in rolls_hill_climbing])}')"
   ],
   "metadata": {
    "collapsed": false,
    "ExecuteTime": {
     "end_time": "2023-12-27T20:56:03.660946700Z",
     "start_time": "2023-12-27T20:53:36.465828700Z"
    }
   }
  },
  {
   "cell_type": "markdown",
   "source": [
    "#### By trying several times the hill climbing algorithm with this random initial solution, we can see that it always find a better solution. But the result depend greatly on the initial solution. The results can vary from 700 to 730, which is not very consistent. It's still went up by 50-70 in average. which is not bad.\n"
   ],
   "metadata": {
    "collapsed": false
   }
  }
 ]
}
